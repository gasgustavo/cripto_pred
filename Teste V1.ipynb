{
 "cells": [
  {
   "cell_type": "code",
   "execution_count": 1,
   "id": "4a8ec57b",
   "metadata": {},
   "outputs": [],
   "source": [
    "import pandas as pd\n",
    "import numpy as np\n",
    "import os\n",
    "\n",
    "from sklearn.preprocessing import MinMaxScaler\n",
    "\n",
    "import tensorflow as tf\n",
    "from tensorflow.keras.models import Sequential\n",
    "from tensorflow.keras.layers import LSTM, GRU\n",
    "from tensorflow.keras.layers import SimpleRNN\n",
    "from tensorflow.keras.layers import Dropout\n",
    "from tensorflow.keras.layers import Dense\n",
    "from tensorflow.keras.layers import Dropout\n",
    "from tensorflow.keras.layers import RepeatVector\n",
    "from tensorflow.keras.layers import TimeDistributed\n",
    "from tensorflow.keras.callbacks import ModelCheckpoint\n",
    "\n",
    "\n",
    "path = 'data'"
   ]
  },
  {
   "cell_type": "code",
   "execution_count": 2,
   "id": "6a4c14aa",
   "metadata": {},
   "outputs": [],
   "source": [
    "def load_file(file_path):\n",
    "    \n",
    "    return pd.read_csv(file_path)\n",
    "\n",
    "def feature_engineering(df_raw, estrategy='simple'):\n",
    "    \n",
    "    if estrategy == 'simple':\n",
    "        df = df_raw[['timestamp', 'close']]\n",
    "        df = df.set_index('timestamp', drop=True)\n",
    "        \n",
    "    return df\n",
    "\n",
    "def format_data(data, labels, janela_de_tempo, janela_de_predicao):\n",
    "    hist = []\n",
    "    target = []\n",
    "\n",
    "    for i in range(len(data)-(janela_de_tempo + janela_de_predicao)):\n",
    "        x = data[i:i+janela_de_tempo]\n",
    "        y = labels[i+janela_de_tempo:i+janela_de_tempo+janela_de_predicao]\n",
    "\n",
    "        hist.append(x)\n",
    "        target.append(y)\n",
    "    #convertendo de lista para array\n",
    "    hist = np.array(hist)\n",
    "    target = np.array(target)\n",
    "    \n",
    "    return hist, target\n",
    "\n",
    "def split_train_test(hist, target, train_part=0.7):\n",
    "    \n",
    "    #Forma correta (na prática) de normalizar\n",
    "    valued=int(hist.shape[0]*train_part)\n",
    "\n",
    "    X_train = hist[:valued,:]\n",
    "    X_test = hist[valued:,:]\n",
    "\n",
    "    y_train = target[:valued,:]\n",
    "    y_test = target[valued:,:]\n",
    "    \n",
    "    return X_train, X_test, y_train, y_test\n",
    "\n",
    "def normalize_data(X_train, X_test, y_train, y_test, janela_de_tempo):\n",
    "    ##Normalizando...\n",
    "\n",
    "    sc = MinMaxScaler()\n",
    "    sc.fit(X_train)\n",
    "    X_train = sc.transform(X_train)\n",
    "    X_test = sc.transform(X_test)\n",
    "\n",
    "    X_train = X_train.reshape((len(X_train), janela_de_tempo, 1))\n",
    "    X_test = X_test.reshape((len(X_test), janela_de_tempo, 1))\n",
    "\n",
    "    sc.fit(y_train)\n",
    "    y_train = sc.transform(y_train)\n",
    "    y_test = sc.transform(y_test)\n",
    "    return X_train, X_test, y_train, y_test, sc\n",
    "\n",
    "\n",
    "def create_model(janela_de_tempo, estrategy='simple'):\n",
    "    \n",
    "    model = None\n",
    "    \n",
    "    if estrategy=='simple' :\n",
    "        model = tf.keras.Sequential()\n",
    "\n",
    "        #encoder\n",
    "        model.add(LSTM(25, input_shape=(janela_de_tempo,1)))\n",
    "        model.add(Dropout(0.10))\n",
    "\n",
    "        #Gate do decoder\n",
    "        model.add(RepeatVector(y_train.shape[1]))\n",
    "\n",
    "        #decoder\n",
    "        model.add(LSTM(25, return_sequences=True))\n",
    "        model.add(TimeDistributed(Dense(10)))\n",
    "        model.add(Dense(1))\n",
    "\n",
    "        print(model.summary())\n",
    "    return model"
   ]
  },
  {
   "cell_type": "code",
   "execution_count": 3,
   "id": "138fa153",
   "metadata": {},
   "outputs": [
    {
     "name": "stdout",
     "output_type": "stream",
     "text": [
      "Existem 27 arquivos\n",
      "ADAUSDT-5m-data.csv\n",
      "ALGOUSDT-5m-data.csv\n",
      "ATOMUSDT-5m-data.csv\n",
      "AVAXUSDT-5m-data.csv\n",
      "AXSUSDT-5m-data.csv\n",
      "BCHUSDT-5m-data.csv\n",
      "BNBUSDT-5m-data.csv\n",
      "DOGEUSDT-5m-data.csv\n",
      "DOTUSDT-5m-data.csv\n",
      "ETCUSDT-5m-data.csv\n",
      "FILUSDT-5m-data.csv\n",
      "FTMUSDT-5m-data.csv\n",
      "HBARUSDT-5m-data.csv\n",
      "LINKUSDT-5m-data.csv\n",
      "LTCUSDT-5m-data.csv\n",
      "LUNAUSDT-5m-data.csv\n",
      "MATICUSDT-5m-data.csv\n",
      "NEARUSDT-5m-data.csv\n",
      "SHIBUSDT-5m-data.csv\n",
      "SOLUSDT-5m-data.csv\n",
      "THETAUSDT-5m-data.csv\n",
      "TRXUSDT-5m-data.csv\n",
      "UNIUSDT-5m-data.csv\n",
      "VETUSDT-5m-data.csv\n",
      "XLMUSDT-5m-data.csv\n",
      "XRPUSDT-5m-data.csv\n",
      "XTZUSDT-5m-data.csv\n"
     ]
    }
   ],
   "source": [
    "#list_files = os.listdir(path)\n",
    "list_files = ['BCHUSDT-5m-data.csv', \"ETCUSDT-5m-data.csv\"]\n",
    "print(f'Existem {len(list_files)} arquivos')\n",
    "for file in list_files:\n",
    "    print(file)"
   ]
  },
  {
   "cell_type": "code",
   "execution_count": 4,
   "id": "d238abe3",
   "metadata": {},
   "outputs": [
    {
     "name": "stdout",
     "output_type": "stream",
     "text": [
      "Model: \"sequential\"\n",
      "_________________________________________________________________\n",
      " Layer (type)                Output Shape              Param #   \n",
      "=================================================================\n",
      " lstm (LSTM)                 (None, 25)                2700      \n",
      "                                                                 \n",
      " dropout (Dropout)           (None, 25)                0         \n",
      "                                                                 \n",
      " repeat_vector (RepeatVector  (None, 10, 25)           0         \n",
      " )                                                               \n",
      "                                                                 \n",
      " lstm_1 (LSTM)               (None, 10, 25)            5100      \n",
      "                                                                 \n",
      " time_distributed (TimeDistr  (None, 10, 10)           260       \n",
      " ibuted)                                                         \n",
      "                                                                 \n",
      " dense_1 (Dense)             (None, 10, 1)             11        \n",
      "                                                                 \n",
      "=================================================================\n",
      "Total params: 8,071\n",
      "Trainable params: 8,071\n",
      "Non-trainable params: 0\n",
      "_________________________________________________________________\n",
      "None\n"
     ]
    }
   ],
   "source": [
    "\n",
    "file = 'BCHUSDT-5m-data.csv'\n",
    "\n",
    "# Parametros do experimento\n",
    "estrategy = 'simple'\n",
    "optimizer='adam' \n",
    "loss='binary_crossentropy'\n",
    "janela_de_tempo = 60   # Quantidade de slots utilizados pra predicao\n",
    "janela_de_predicao = 10 # Quanditade de slots pra frente que serao preditos \n",
    "epochs = 2\n",
    "batch_size = 32\n",
    "\n",
    "file_path = os.path.join(path,file)\n",
    "df_raw = load_file(file_path)\n",
    "#del df_raw\n",
    "df = feature_engineering(\n",
    "    df_raw, \n",
    "    estrategy=estrategy\n",
    ")\n",
    "\n",
    "\n",
    "df.loc[:, 'rotulo'] = df['close']\n",
    "data = df.iloc[:, 0]\n",
    "labels = df['rotulo']\n",
    "\n",
    "hist, target = format_data(data, labels, janela_de_tempo, janela_de_predicao)\n",
    "X_train, X_test, y_train, y_test = split_train_test(hist, target, train_part=0.7)\n",
    "\n",
    "X_train, X_test, y_train, y_test, sc = normalize_data(X_train, X_test, y_train, y_test, janela_de_tempo)\n",
    "\n",
    "model = create_model(janela_de_tempo, estrategy='simple')"
   ]
  },
  {
   "cell_type": "code",
   "execution_count": 5,
   "id": "2ed57baa",
   "metadata": {},
   "outputs": [
    {
     "name": "stdout",
     "output_type": "stream",
     "text": [
      "Epoch 1/2\n",
      "4649/4649 [==============================] - 115s 24ms/step - loss: 0.4255 - accuracy: 1.3445e-05 - val_loss: 0.5341 - val_accuracy: 0.0000e+00\n",
      "Epoch 2/2\n",
      "4649/4649 [==============================] - 111s 24ms/step - loss: 0.4233 - accuracy: 1.3445e-05 - val_loss: 0.5186 - val_accuracy: 0.0000e+00\n"
     ]
    }
   ],
   "source": [
    "model.compile(optimizer=optimizer, loss=loss, metrics=['accuracy'])\n",
    "history = model.fit(X_train, y_train, epochs=epochs, validation_data=(X_test, y_test),  batch_size=batch_size)"
   ]
  },
  {
   "cell_type": "code",
   "execution_count": 6,
   "id": "39ed4d2a",
   "metadata": {},
   "outputs": [
    {
     "data": {
      "text/plain": [
       "{'loss': [0.42545509338378906, 0.4232957661151886],\n",
       " 'accuracy': [1.3444656360661611e-05, 1.3444656360661611e-05],\n",
       " 'val_loss': [0.5340894460678101, 0.5186417698860168],\n",
       " 'val_accuracy': [0.0, 0.0]}"
      ]
     },
     "execution_count": 6,
     "metadata": {},
     "output_type": "execute_result"
    }
   ],
   "source": [
    "history.history"
   ]
  },
  {
   "cell_type": "code",
   "execution_count": null,
   "id": "a37b80fd",
   "metadata": {},
   "outputs": [],
   "source": []
  },
  {
   "cell_type": "code",
   "execution_count": null,
   "id": "e071e876",
   "metadata": {},
   "outputs": [],
   "source": [
    "history"
   ]
  },
  {
   "cell_type": "code",
   "execution_count": null,
   "id": "d860767f",
   "metadata": {},
   "outputs": [],
   "source": [
    "X_train.shape"
   ]
  },
  {
   "cell_type": "code",
   "execution_count": null,
   "id": "87026908",
   "metadata": {},
   "outputs": [],
   "source": [
    "pred = model.predict(X_test)\n",
    "pred"
   ]
  },
  {
   "cell_type": "markdown",
   "id": "a56298d1",
   "metadata": {},
   "source": [
    "# Visualização"
   ]
  },
  {
   "cell_type": "code",
   "execution_count": null,
   "id": "7dfeee92",
   "metadata": {},
   "outputs": [],
   "source": [
    "import matplotlib.pyplot as plt\n",
    "import seaborn as sns\n",
    "\n",
    "\n",
    "%matplotlib inline\n",
    "sns.set(style=\"darkgrid\", font_scale=1.5)\n",
    "\n",
    "from pandas.plotting import register_matplotlib_converters\n",
    "register_matplotlib_converters()"
   ]
  },
  {
   "cell_type": "code",
   "execution_count": null,
   "id": "7f3fac97",
   "metadata": {},
   "outputs": [],
   "source": [
    "epocas_a_pular = 0\n",
    "\n",
    "loss = history.history['loss'][epocas_a_pular:]\n",
    "val_loss=history.history['val_loss'][epocas_a_pular:]\n",
    "epoch_count = range(1, len(loss) + 1)\n",
    "plt.figure(figsize=(12,8))\n",
    "plt.plot(epoch_count, loss, 'r--')\n",
    "plt.plot(epoch_count, val_loss,  )\n",
    "plt.legend(['Training Loss', 'Validation Loss'])\n",
    "\n",
    "plt.xlabel('Epoch')\n",
    "plt.ylabel('Loss')\n",
    "plt.show();"
   ]
  },
  {
   "cell_type": "code",
   "execution_count": null,
   "id": "98824e19",
   "metadata": {},
   "outputs": [],
   "source": [
    "dias_pra_frente = 5\n",
    "pred = model.predict(X_test)\n",
    "\n",
    "plt.figure(figsize=(12,8))\n",
    "plt.plot(y_test[:,dias_pra_frente], color='blue', label='Real')\n",
    "plt.plot([i[dias_pra_frente] for i in pred], color='red', label='Prediction')\n",
    "plt.title('Preço')\n",
    "plt.legend()\n",
    "plt.show()"
   ]
  },
  {
   "cell_type": "markdown",
   "id": "f76deaad",
   "metadata": {},
   "source": [
    "O modelo parece estar bem ajustado. Vamos verificar o valor real (sem normalização):"
   ]
  },
  {
   "cell_type": "code",
   "execution_count": null,
   "id": "87156fa5",
   "metadata": {},
   "outputs": [],
   "source": [
    "y_train.shape"
   ]
  },
  {
   "cell_type": "code",
   "execution_count": null,
   "id": "d11691ba",
   "metadata": {},
   "outputs": [],
   "source": [
    "y_test.shape , pred[:, :, 0].shape"
   ]
  },
  {
   "cell_type": "code",
   "execution_count": null,
   "id": "9f43b0a8",
   "metadata": {},
   "outputs": [],
   "source": [
    "type(y_test[0]), type(pred[0])"
   ]
  },
  {
   "cell_type": "code",
   "execution_count": null,
   "id": "b6779925",
   "metadata": {},
   "outputs": [],
   "source": [
    "pred_transformed = sc.inverse_transform(pred[:, :, 0])\n",
    "y_test_transformed = sc.inverse_transform(y_test)"
   ]
  },
  {
   "cell_type": "code",
   "execution_count": null,
   "id": "14a23377",
   "metadata": {},
   "outputs": [],
   "source": [
    "plt.figure(figsize=(12,8))\n",
    "plt.plot(y_test_transformed, color='blue', label='Real')\n",
    "plt.plot(pred_transformed, color='red', label='Prediction')\n",
    "plt.title('Preço real')\n",
    "plt.legend()\n",
    "plt.show()"
   ]
  },
  {
   "cell_type": "code",
   "execution_count": null,
   "id": "b2f99677",
   "metadata": {},
   "outputs": [],
   "source": []
  },
  {
   "cell_type": "code",
   "execution_count": null,
   "id": "daa1c8fd",
   "metadata": {},
   "outputs": [],
   "source": []
  },
  {
   "cell_type": "code",
   "execution_count": null,
   "id": "d036e5aa",
   "metadata": {},
   "outputs": [],
   "source": []
  },
  {
   "cell_type": "code",
   "execution_count": null,
   "id": "3a70d31f",
   "metadata": {},
   "outputs": [],
   "source": []
  },
  {
   "cell_type": "code",
   "execution_count": null,
   "id": "5458bfda",
   "metadata": {},
   "outputs": [],
   "source": []
  },
  {
   "cell_type": "code",
   "execution_count": null,
   "id": "93b5d187",
   "metadata": {},
   "outputs": [],
   "source": []
  },
  {
   "cell_type": "code",
   "execution_count": null,
   "id": "bde905db",
   "metadata": {},
   "outputs": [],
   "source": []
  },
  {
   "cell_type": "code",
   "execution_count": null,
   "id": "14c6c901",
   "metadata": {},
   "outputs": [],
   "source": []
  },
  {
   "cell_type": "code",
   "execution_count": null,
   "id": "32890faf",
   "metadata": {},
   "outputs": [],
   "source": []
  },
  {
   "cell_type": "code",
   "execution_count": null,
   "id": "0a1baa22",
   "metadata": {},
   "outputs": [],
   "source": [
    "plt.figure(figsize=(12,6))\n",
    "df_aux = df\n",
    "sns.lineplot(x=df_aux.reset_index().index, y=\"close\", data=df_aux).set_title(\"Variações de Preço\");"
   ]
  },
  {
   "cell_type": "code",
   "execution_count": null,
   "id": "a2fbe5bd",
   "metadata": {},
   "outputs": [],
   "source": []
  }
 ],
 "metadata": {
  "kernelspec": {
   "display_name": "Python 3",
   "language": "python",
   "name": "python3"
  },
  "language_info": {
   "codemirror_mode": {
    "name": "ipython",
    "version": 3
   },
   "file_extension": ".py",
   "mimetype": "text/x-python",
   "name": "python",
   "nbconvert_exporter": "python",
   "pygments_lexer": "ipython3",
   "version": "3.8.8"
  }
 },
 "nbformat": 4,
 "nbformat_minor": 5
}
